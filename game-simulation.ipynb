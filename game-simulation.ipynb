{
 "cells": [
  {
   "cell_type": "code",
   "execution_count": 3,
   "metadata": {},
   "outputs": [
    {
     "name": "stdout",
     "output_type": "stream",
     "text": [
      "()\n",
      "Alice won 12999 (0.0%) fights. Bob won 17001 (0.0%) fights.\n"
     ]
    }
   ],
   "source": [
    "import random, copy\n",
    "\n",
    "NUM_FIGHTS = 30000\n",
    "VERBOSE = False\n",
    "\n",
    "# Lower thac0 and lower ac values are better. Higher damage & hp values are better.\n",
    "aliceTemplate = {'name': 'Alice', 'hp': 14, 'ac': 5, 'thac0': 18, 'dmgnum': 1, 'dmgsize':6, 'dmgmod': 0}\n",
    "bobTemplate   = {'name': 'Bob',   'hp': 12, 'ac': 7, 'thac0': 16, 'dmgnum': 2, 'dmgsize':4, 'dmgmod': 0}\n",
    "\n",
    "def display(s):\n",
    "    if VERBOSE:\n",
    "        print(s)\n",
    "\n",
    "def attack(attacker, defender):\n",
    "    if random.randint(1, 20) >= attacker['thac0'] - defender['ac']:\n",
    "        damage = 0\n",
    "        for i in range(attacker['dmgnum']):\n",
    "            damage += random.randint(1, attacker['dmgsize'])\n",
    "        damage += attacker['dmgmod']\n",
    "        display('%s (%s hp) hits %s (%s hp) for %s points of damage. %s is reduced to %s hp.' % (attacker['name'], attacker['hp'], defender['name'], defender['hp'], damage, defender['name'], defender['hp'] - damage))\n",
    "        defender['hp'] -= damage\n",
    "    else:\n",
    "        display('%s misses %s.' % (attacker['name'], defender['name']))\n",
    "\n",
    "aliceWins = 0\n",
    "bobWins = 0\n",
    "for i in range(NUM_FIGHTS):\n",
    "    display('======================')\n",
    "    display('Start of combat #%s' % (i+1))\n",
    "    alice = copy.deepcopy(aliceTemplate)\n",
    "    bob = copy.deepcopy(bobTemplate)\n",
    "    while True:\n",
    "        attack(alice, bob)\n",
    "        if bob['hp'] <= 0:\n",
    "            break\n",
    "\n",
    "        attack(bob, alice)\n",
    "        if alice['hp'] <= 0:\n",
    "            break\n",
    "    if alice['hp'] <= 0:\n",
    "        display('Alice has died.')\n",
    "        bobWins += 1\n",
    "    if bob['hp'] <= 0:\n",
    "        display('Bob has died.')\n",
    "        aliceWins += 1\n",
    "\n",
    "print()\n",
    "print('Alice won %s (%s%%) fights. Bob won %s (%s%%) fights.' % (aliceWins, round(aliceWins / NUM_FIGHTS * 100, 2), bobWins, round(bobWins / NUM_FIGHTS * 100, 2)))"
   ]
  },
  {
   "cell_type": "code",
   "execution_count": null,
   "metadata": {
    "collapsed": true
   },
   "outputs": [],
   "source": []
  }
 ],
 "metadata": {
  "kernelspec": {
   "display_name": "Python 2",
   "language": "python",
   "name": "python2"
  },
  "language_info": {
   "codemirror_mode": {
    "name": "ipython",
    "version": 2
   },
   "file_extension": ".py",
   "mimetype": "text/x-python",
   "name": "python",
   "nbconvert_exporter": "python",
   "pygments_lexer": "ipython2",
   "version": "2.7.13"
  }
 },
 "nbformat": 4,
 "nbformat_minor": 2
}
